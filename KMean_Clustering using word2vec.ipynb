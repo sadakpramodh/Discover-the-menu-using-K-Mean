{
 "cells": [
  {
   "cell_type": "markdown",
   "metadata": {},
   "source": [
    "# Clustering using Word2Vec"
   ]
  },
  {
   "cell_type": "markdown",
   "metadata": {},
   "source": [
    "## Preprocessing"
   ]
  },
  {
   "cell_type": "code",
   "execution_count": 1,
   "metadata": {},
   "outputs": [],
   "source": []
  },
  {
   "cell_type": "code",
   "execution_count": null,
   "metadata": {},
   "outputs": [],
   "source": [
    "from gensim.models import Word2Vec\n",
    "from gensim.test.utils import common_texts\n",
    "from gensim.models import KeyedVectors\n",
    "from gensim.test.utils import datapath\n",
    "from nltk import word_tokenize"
   ]
  },
  {
   "cell_type": "code",
   "execution_count": null,
   "metadata": {},
   "outputs": [],
   "source": [
    "\n",
    "\n",
    "# Create Word2Vec models\n",
    "# CBOW architecture (sg=0)\n",
    "model_cbow = Word2Vec(corpus2, min_count=1, vector_size=200, window=6, sg=0)\n",
    "\n",
    "# Skip-gram architecture (sg=1)\n",
    "model_skipgram = Word2Vec(corpus2, min_count=1, vector_size=200, window=6, sg=1)\n",
    "\n",
    "# Example usage:\n",
    "similar_words = model_cbow.wv.most_similar(\"sandwich\")\n",
    "print(\"Words similar to 'sandwich':\", similar_words)\n",
    "\n",
    "# Save the models\n",
    "model_cbow.save(\"word2vec_cbow.model\")\n",
    "model_skipgram.save(\"word2vec_skipgram.model\")\n"
   ]
  }
 ],
 "metadata": {
  "kernelspec": {
   "display_name": "Python 3",
   "language": "python",
   "name": "python3"
  },
  "language_info": {
   "codemirror_mode": {
    "name": "ipython",
    "version": 3
   },
   "file_extension": ".py",
   "mimetype": "text/x-python",
   "name": "python",
   "nbconvert_exporter": "python",
   "pygments_lexer": "ipython3",
   "version": "3.11.8"
  }
 },
 "nbformat": 4,
 "nbformat_minor": 2
}
